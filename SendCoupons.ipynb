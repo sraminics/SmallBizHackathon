{
 "cells": [
  {
   "cell_type": "code",
   "execution_count": 3,
   "metadata": {},
   "outputs": [
    {
     "data": {
      "text/plain": [
       "{'message-count': '1',\n",
       " 'messages': [{'to': '15106764002',\n",
       "   'message-id': '0C0000020610A6D9',\n",
       "   'status': '0',\n",
       "   'remaining-balance': '9.51100000',\n",
       "   'message-price': '0.00570000',\n",
       "   'network': '310090'}]}"
      ]
     },
     "execution_count": 3,
     "metadata": {},
     "output_type": "execute_result"
    }
   ],
   "source": [
    "import nexmo\n",
    "\n",
    "couponmessage = 'hello Sindhuja'\n",
    "client = nexmo.Client(key='e6d076e0', secret='e4f69642')\n",
    "client.send_message({\n",
    "    'from': '12012751346',\n",
    "    'to': '15106764002',\n",
    "    'text': couponmessage,\n",
    "})"
   ]
  },
  {
   "cell_type": "code",
   "execution_count": null,
   "metadata": {},
   "outputs": [],
   "source": []
  }
 ],
 "metadata": {
  "kernelspec": {
   "display_name": "Python 3",
   "language": "python",
   "name": "python3"
  },
  "language_info": {
   "codemirror_mode": {
    "name": "ipython",
    "version": 3
   },
   "file_extension": ".py",
   "mimetype": "text/x-python",
   "name": "python",
   "nbconvert_exporter": "python",
   "pygments_lexer": "ipython3",
   "version": "3.7.0"
  }
 },
 "nbformat": 4,
 "nbformat_minor": 1
}
