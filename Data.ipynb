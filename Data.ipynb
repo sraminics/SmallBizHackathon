{
 "cells": [
  {
   "cell_type": "code",
   "execution_count": null,
   "metadata": {
    "collapsed": false
   },
   "outputs": [],
   "source": [
    "import pandas as pd\n",
    "import requests"
   ]
  },
  {
   "cell_type": "code",
   "execution_count": null,
   "metadata": {
    "collapsed": true
   },
   "outputs": [],
   "source": [
    "token = 'Bearer eyJlbmMiOiJBMTI4Q0JDLUhTMjU2IiwiYWxnIjoiZGlyIn0..6YJeGKvtVDvTRz92JAp1Og.HQ5pi2cjCTn2BjopMnP5RUm3Og6GJ6dU5MkL4bafDw4OKzQMR5NeGuk6MC0-prKShz1xrXvJ8-OUaT_pMEAzZfw_1Uzeyirhq2p-QFkrPBcDSxD_o8AeeQR0tY3T7uFnCEkG1G1P2Ptn7ivvK6OhZh8zIy5zxc6rEKdw5GpZilB_rcPkGigd2WWIxtja2QUvYrERHlYlZJ5IvR518WTGLCE-05wCPcf1FPG2MsDmuRrU-tVAQk0s5Ymd9qzohCWFvB6R5WBTrd8NqVwQuFwc3ugObSiO1ss1bpXeC_nUj_1pkCiT7QfzPcXX-a0bEea9aN79vAnSj8qZIVsdKFyRQ1VvtGeolywc4FFoclpFJyDqb37iiOo8U3BHvNGFtnZZzipSd-T__3Hfkl3ecFTQwG__rPDr8TDExJ557wgZ1Z-HRwQu5DoiXHNOr8UFS2iDbZQytlcoqJkhzvLvTXt7inb578OHqzbGiQkS8LPR5wXb9SMZgVaP2IUtPtICXEGbRPNHTo_HLgb_8ofZrkCMtZk8kE-Fn08x-uJXk_VJ21IzMSnCfSXSovWX_-mRsncYRbWaAsVyoi4vcAiqrjn-kherFkGYkxoYFYgTqkT6R7ZcLD8wNwpBJDiK-PXxgLKL8TbLFfgF_HG6UBUxUOTAU76dGhoTkUQarjr5eA2iXxbf5Sc3d62DSRSPi7ZeXrIKCDvFByyVxR_FncldeTKHGG90cW_n-DDOJzIOxd1dHPCugcEAhlBvxiVC0EJWUL9E6Rh3b0yAO6V8y0IZ9UGrqd9AFiPBdSaUerLO6kesLJY.gkZ0sCyfHZa9QUW8MH-8Kg'"
   ]
  },
  {
   "cell_type": "code",
   "execution_count": null,
   "metadata": {
    "collapsed": true
   },
   "outputs": [],
   "source": [
    "baseurl = 'sandbox-quickbooks.api.intuit.com'"
   ]
  },
  {
   "cell_type": "code",
   "execution_count": null,
   "metadata": {
    "collapsed": true
   },
   "outputs": [],
   "source": [
    "companyid = '123146160171734'"
   ]
  },
  {
   "cell_type": "code",
   "execution_count": null,
   "metadata": {
    "collapsed": true
   },
   "outputs": [],
   "source": [
    "minorversion = '23'"
   ]
  },
  {
   "cell_type": "code",
   "execution_count": null,
   "metadata": {
    "collapsed": true
   },
   "outputs": [],
   "source": [
    "headers = {\"Authorization\":token,'Accept':'application/json'}"
   ]
  },
  {
   "cell_type": "code",
   "execution_count": null,
   "metadata": {
    "collapsed": false
   },
   "outputs": [],
   "source": [
    "'https://{0}/v3/company/{1}/salesreceipt/181?minorversion={2}'"
   ]
  },
  {
   "cell_type": "code",
   "execution_count": null,
   "metadata": {
    "collapsed": true
   },
   "outputs": [],
   "source": [
    "url = 'https://{0}/v3/company/{1}/query?minorversion={2}'.format(baseurl,companyid,minorversion)"
   ]
  },
  {
   "cell_type": "code",
   "execution_count": null,
   "metadata": {
    "collapsed": false
   },
   "outputs": [],
   "source": [
    "resp = requests.get(url,headers=headers,params = {'query': 'select * from SalesReceipt'})"
   ]
  },
  {
   "cell_type": "code",
   "execution_count": null,
   "metadata": {
    "collapsed": false
   },
   "outputs": [],
   "source": [
    "salesReceipts = resp.json()['QueryResponse']['SalesReceipt']"
   ]
  },
  {
   "cell_type": "code",
   "execution_count": null,
   "metadata": {
    "collapsed": false
   },
   "outputs": [],
   "source": [
    "len(salesReceipts)"
   ]
  },
  {
   "cell_type": "code",
   "execution_count": null,
   "metadata": {
    "collapsed": true
   },
   "outputs": [],
   "source": [
    "customerids = []\n",
    "items = []\n",
    "#transids = []"
   ]
  },
  {
   "cell_type": "code",
   "execution_count": null,
   "metadata": {
    "collapsed": false
   },
   "outputs": [],
   "source": [
    "for receipt in salesReceipts:\n",
    "    customerids.append(receipt['CustomerRef']['value'])\n",
    "    #transids.append(receipt['Id'])\n",
    "    itemStr = ''\n",
    "    for item in receipt['Line']:\n",
    "        if 'SalesItemLineDetail' in item:\n",
    "            itemStr += item['SalesItemLineDetail']['ItemRef']['name'] + ' '\n",
    "    items.append(itemStr)"
   ]
  },
  {
   "cell_type": "code",
   "execution_count": null,
   "metadata": {
    "collapsed": false
   },
   "outputs": [],
   "source": [
    "res = pd.DataFrame({'customerids':customerids,'items':items})"
   ]
  },
  {
   "cell_type": "code",
   "execution_count": null,
   "metadata": {
    "collapsed": false
   },
   "outputs": [],
   "source": [
    "res"
   ]
  },
  {
   "cell_type": "code",
   "execution_count": null,
   "metadata": {
    "collapsed": false
   },
   "outputs": [],
   "source": [
    "res.to_csv('basket_items.csv',index=False)"
   ]
  },
  {
   "cell_type": "code",
   "execution_count": null,
   "metadata": {
    "collapsed": true
   },
   "outputs": [],
   "source": []
  }
 ],
 "metadata": {
  "anaconda-cloud": {},
  "kernelspec": {
   "display_name": "Python [conda root]",
   "language": "python",
   "name": "conda-root-py"
  },
  "language_info": {
   "codemirror_mode": {
    "name": "ipython",
    "version": 2
   },
   "file_extension": ".py",
   "mimetype": "text/x-python",
   "name": "python",
   "nbconvert_exporter": "python",
   "pygments_lexer": "ipython2",
   "version": "2.7.12"
  }
 },
 "nbformat": 4,
 "nbformat_minor": 1
}
